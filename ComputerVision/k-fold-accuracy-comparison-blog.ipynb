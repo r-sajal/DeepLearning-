{
 "cells": [
  {
   "cell_type": "code",
   "execution_count": 1,
   "id": "7be8d044",
   "metadata": {
    "_kg_hide-output": true,
    "execution": {
     "iopub.execute_input": "2021-09-13T05:46:31.756935Z",
     "iopub.status.busy": "2021-09-13T05:46:31.755453Z",
     "iopub.status.idle": "2021-09-13T05:46:41.039515Z",
     "shell.execute_reply": "2021-09-13T05:46:41.040573Z",
     "shell.execute_reply.started": "2021-09-13T05:08:23.033157Z"
    },
    "papermill": {
     "duration": 9.308457,
     "end_time": "2021-09-13T05:46:41.040932",
     "exception": false,
     "start_time": "2021-09-13T05:46:31.732475",
     "status": "completed"
    },
    "tags": []
   },
   "outputs": [
    {
     "name": "stdout",
     "output_type": "stream",
     "text": [
      "Collecting keras\r\n",
      "  Downloading keras-2.6.0-py2.py3-none-any.whl (1.3 MB)\r\n",
      "\u001b[K     |████████████████████████████████| 1.3 MB 2.1 MB/s \r\n",
      "\u001b[?25hInstalling collected packages: keras\r\n",
      "Successfully installed keras-2.6.0\r\n",
      "\u001b[33mWARNING: Running pip as the 'root' user can result in broken permissions and conflicting behaviour with the system package manager. It is recommended to use a virtual environment instead: https://pip.pypa.io/warnings/venv\u001b[0m\r\n",
      "Note: you may need to restart the kernel to use updated packages.\n"
     ]
    }
   ],
   "source": [
    "pip install keras"
   ]
  },
  {
   "cell_type": "markdown",
   "id": "b4e7b8b1",
   "metadata": {
    "papermill": {
     "duration": 0.01986,
     "end_time": "2021-09-13T05:46:41.082188",
     "exception": false,
     "start_time": "2021-09-13T05:46:41.062328",
     "status": "completed"
    },
    "tags": []
   },
   "source": [
    "# Initializing Libraries"
   ]
  },
  {
   "cell_type": "code",
   "execution_count": 2,
   "id": "b12cac28",
   "metadata": {
    "_kg_hide-output": true,
    "execution": {
     "iopub.execute_input": "2021-09-13T05:46:41.131576Z",
     "iopub.status.busy": "2021-09-13T05:46:41.130718Z",
     "iopub.status.idle": "2021-09-13T05:46:46.718774Z",
     "shell.execute_reply": "2021-09-13T05:46:46.718299Z",
     "shell.execute_reply.started": "2021-09-13T05:08:32.501687Z"
    },
    "papermill": {
     "duration": 5.617489,
     "end_time": "2021-09-13T05:46:46.718915",
     "exception": false,
     "start_time": "2021-09-13T05:46:41.101426",
     "status": "completed"
    },
    "tags": []
   },
   "outputs": [
    {
     "name": "stderr",
     "output_type": "stream",
     "text": [
      "2021-09-13 05:46:42.571354: I tensorflow/stream_executor/platform/default/dso_loader.cc:49] Successfully opened dynamic library libcudart.so.11.0\n"
     ]
    }
   ],
   "source": [
    "import pandas as pd\n",
    "import numpy as np\n",
    "import os.path\n",
    "import matplotlib.pyplot as plt\n",
    "import seaborn as sns\n",
    "import gc\n",
    "\n",
    "from PIL import Image\n",
    "\n",
    "%matplotlib inline\n",
    "from tensorflow import keras \n",
    "from tensorflow.keras.applications import ResNet50,ResNet101\n",
    "import cv2\n",
    "from tqdm import tqdm\n",
    "from tensorflow.keras.models import Sequential\n",
    "from tensorflow.keras.layers import Dense, Dropout, Flatten\n",
    "from tensorflow.keras.callbacks import EarlyStopping, ModelCheckpoint\n",
    "from tensorflow.keras import backend as K\n",
    "from tensorflow.keras import applications\n",
    "from tensorflow.keras.models import Model\n",
    "from tensorflow.keras import optimizers\n",
    "from tensorflow.keras.utils import to_categorical\n",
    "from tensorflow.keras.preprocessing.image import ImageDataGenerator\n",
    "from tensorflow.keras.callbacks import EarlyStopping\n",
    "from tensorflow.keras.preprocessing import image"
   ]
  },
  {
   "cell_type": "code",
   "execution_count": 3,
   "id": "9dc49313",
   "metadata": {
    "execution": {
     "iopub.execute_input": "2021-09-13T05:46:46.765521Z",
     "iopub.status.busy": "2021-09-13T05:46:46.764760Z",
     "iopub.status.idle": "2021-09-13T05:46:46.909668Z",
     "shell.execute_reply": "2021-09-13T05:46:46.909171Z",
     "shell.execute_reply.started": "2021-09-13T05:08:37.352352Z"
    },
    "papermill": {
     "duration": 0.170038,
     "end_time": "2021-09-13T05:46:46.909794",
     "exception": false,
     "start_time": "2021-09-13T05:46:46.739756",
     "status": "completed"
    },
    "tags": []
   },
   "outputs": [],
   "source": [
    "from sklearn.model_selection import StratifiedKFold , KFold ,RepeatedKFold\n",
    "from sklearn.model_selection import train_test_split\n",
    "from sklearn.preprocessing import LabelEncoder\n",
    "from sklearn.metrics import accuracy_score"
   ]
  },
  {
   "cell_type": "markdown",
   "id": "b0a0d09d",
   "metadata": {
    "papermill": {
     "duration": 0.019065,
     "end_time": "2021-09-13T05:46:46.948389",
     "exception": false,
     "start_time": "2021-09-13T05:46:46.929324",
     "status": "completed"
    },
    "tags": []
   },
   "source": [
    "# Getting the Data"
   ]
  },
  {
   "cell_type": "code",
   "execution_count": 4,
   "id": "23eae30b",
   "metadata": {
    "execution": {
     "iopub.execute_input": "2021-09-13T05:46:46.991322Z",
     "iopub.status.busy": "2021-09-13T05:46:46.990811Z",
     "iopub.status.idle": "2021-09-13T05:46:47.037323Z",
     "shell.execute_reply": "2021-09-13T05:46:47.036849Z",
     "shell.execute_reply.started": "2021-09-13T05:08:37.481496Z"
    },
    "papermill": {
     "duration": 0.069537,
     "end_time": "2021-09-13T05:46:47.037434",
     "exception": false,
     "start_time": "2021-09-13T05:46:46.967897",
     "status": "completed"
    },
    "tags": []
   },
   "outputs": [
    {
     "data": {
      "text/html": [
       "<div>\n",
       "<style scoped>\n",
       "    .dataframe tbody tr th:only-of-type {\n",
       "        vertical-align: middle;\n",
       "    }\n",
       "\n",
       "    .dataframe tbody tr th {\n",
       "        vertical-align: top;\n",
       "    }\n",
       "\n",
       "    .dataframe thead th {\n",
       "        text-align: right;\n",
       "    }\n",
       "</style>\n",
       "<table border=\"1\" class=\"dataframe\">\n",
       "  <thead>\n",
       "    <tr style=\"text-align: right;\">\n",
       "      <th></th>\n",
       "      <th>Image</th>\n",
       "      <th>Class</th>\n",
       "    </tr>\n",
       "  </thead>\n",
       "  <tbody>\n",
       "    <tr>\n",
       "      <th>0</th>\n",
       "      <td>image3476.jpg</td>\n",
       "      <td>Miscellaneous</td>\n",
       "    </tr>\n",
       "    <tr>\n",
       "      <th>1</th>\n",
       "      <td>image5198.jpg</td>\n",
       "      <td>Candle</td>\n",
       "    </tr>\n",
       "    <tr>\n",
       "      <th>2</th>\n",
       "      <td>image4183.jpg</td>\n",
       "      <td>Snowman</td>\n",
       "    </tr>\n",
       "    <tr>\n",
       "      <th>3</th>\n",
       "      <td>image1806.jpg</td>\n",
       "      <td>Miscellaneous</td>\n",
       "    </tr>\n",
       "    <tr>\n",
       "      <th>4</th>\n",
       "      <td>image7831.jpg</td>\n",
       "      <td>Miscellaneous</td>\n",
       "    </tr>\n",
       "  </tbody>\n",
       "</table>\n",
       "</div>"
      ],
      "text/plain": [
       "           Image          Class\n",
       "0  image3476.jpg  Miscellaneous\n",
       "1  image5198.jpg         Candle\n",
       "2  image4183.jpg        Snowman\n",
       "3  image1806.jpg  Miscellaneous\n",
       "4  image7831.jpg  Miscellaneous"
      ]
     },
     "execution_count": 4,
     "metadata": {},
     "output_type": "execute_result"
    }
   ],
   "source": [
    "train = pd.read_csv('/kaggle/input/hackerearth-deep-learning-challenge-holidayseason/dataset/train.csv')\n",
    "train.head()"
   ]
  },
  {
   "cell_type": "markdown",
   "id": "972f625c",
   "metadata": {
    "papermill": {
     "duration": 0.020837,
     "end_time": "2021-09-13T05:46:47.078730",
     "exception": false,
     "start_time": "2021-09-13T05:46:47.057893",
     "status": "completed"
    },
    "tags": []
   },
   "source": [
    "# Another dataset"
   ]
  },
  {
   "cell_type": "code",
   "execution_count": 5,
   "id": "74cf6e12",
   "metadata": {
    "execution": {
     "iopub.execute_input": "2021-09-13T05:46:47.122733Z",
     "iopub.status.busy": "2021-09-13T05:46:47.121577Z",
     "iopub.status.idle": "2021-09-13T05:46:47.124324Z",
     "shell.execute_reply": "2021-09-13T05:46:47.123865Z",
     "shell.execute_reply.started": "2021-09-13T05:08:37.530800Z"
    },
    "papermill": {
     "duration": 0.025813,
     "end_time": "2021-09-13T05:46:47.124430",
     "exception": false,
     "start_time": "2021-09-13T05:46:47.098617",
     "status": "completed"
    },
    "tags": []
   },
   "outputs": [],
   "source": [
    "# As we are going to divide dataset\n",
    "df = train.copy()"
   ]
  },
  {
   "cell_type": "code",
   "execution_count": 6,
   "id": "0a3079bd",
   "metadata": {
    "execution": {
     "iopub.execute_input": "2021-09-13T05:46:47.175712Z",
     "iopub.status.busy": "2021-09-13T05:46:47.173056Z",
     "iopub.status.idle": "2021-09-13T05:46:47.189626Z",
     "shell.execute_reply": "2021-09-13T05:46:47.189988Z",
     "shell.execute_reply.started": "2021-09-13T05:08:37.536783Z"
    },
    "papermill": {
     "duration": 0.046089,
     "end_time": "2021-09-13T05:46:47.190104",
     "exception": false,
     "start_time": "2021-09-13T05:46:47.144015",
     "status": "completed"
    },
    "tags": []
   },
   "outputs": [],
   "source": [
    "# Increasing the size of dataset without disturbing their corresponding ratios \n",
    "\n",
    "Misce = train[train[\"Class\"]=='Miscellaneous']\n",
    "Chris_tree = train[train[\"Class\"]=='Christmas_Tree']\n",
    "Jacket = train[train[\"Class\"]=='Jacket']\n",
    "Candle = train[train[\"Class\"]=='Candle']\n",
    "Airplane = train[train[\"Class\"]=='Airplane']\n",
    "Snowman = train[train[\"Class\"]=='Snowman']\n",
    "\n",
    "df = pd.concat([df,Misce])\n",
    "df = pd.concat([df,Chris_tree])\n",
    "df = pd.concat([df,Jacket])\n",
    "df = pd.concat([df,Candle])\n",
    "df = pd.concat([df,Airplane])\n",
    "df = pd.concat([df,Snowman])"
   ]
  },
  {
   "cell_type": "markdown",
   "id": "c7f2106e",
   "metadata": {
    "papermill": {
     "duration": 0.019322,
     "end_time": "2021-09-13T05:46:47.228933",
     "exception": false,
     "start_time": "2021-09-13T05:46:47.209611",
     "status": "completed"
    },
    "tags": []
   },
   "source": [
    "# Setting Path For Images Folder"
   ]
  },
  {
   "cell_type": "code",
   "execution_count": 7,
   "id": "53c24f17",
   "metadata": {
    "execution": {
     "iopub.execute_input": "2021-09-13T05:46:47.272287Z",
     "iopub.status.busy": "2021-09-13T05:46:47.271121Z",
     "iopub.status.idle": "2021-09-13T05:46:47.273402Z",
     "shell.execute_reply": "2021-09-13T05:46:47.273803Z",
     "shell.execute_reply.started": "2021-09-13T05:08:37.561639Z"
    },
    "papermill": {
     "duration": 0.025459,
     "end_time": "2021-09-13T05:46:47.273917",
     "exception": false,
     "start_time": "2021-09-13T05:46:47.248458",
     "status": "completed"
    },
    "tags": []
   },
   "outputs": [],
   "source": [
    "TRAIN_PATH = '../input/hackerearth-deep-learning-challenge-holidayseason/dataset/train'"
   ]
  },
  {
   "cell_type": "markdown",
   "id": "da84f421",
   "metadata": {
    "papermill": {
     "duration": 0.019362,
     "end_time": "2021-09-13T05:46:47.312937",
     "exception": false,
     "start_time": "2021-09-13T05:46:47.293575",
     "status": "completed"
    },
    "tags": []
   },
   "source": [
    "# Model"
   ]
  },
  {
   "cell_type": "code",
   "execution_count": 8,
   "id": "9b31942a",
   "metadata": {
    "execution": {
     "iopub.execute_input": "2021-09-13T05:46:47.359250Z",
     "iopub.status.busy": "2021-09-13T05:46:47.358697Z",
     "iopub.status.idle": "2021-09-13T05:46:47.362357Z",
     "shell.execute_reply": "2021-09-13T05:46:47.361936Z",
     "shell.execute_reply.started": "2021-09-13T05:08:37.567484Z"
    },
    "papermill": {
     "duration": 0.029674,
     "end_time": "2021-09-13T05:46:47.362461",
     "exception": false,
     "start_time": "2021-09-13T05:46:47.332787",
     "status": "completed"
    },
    "tags": []
   },
   "outputs": [],
   "source": [
    "def get_model(IMG_SIZE):\n",
    "    base_model =applications.ResNet50(weights='imagenet', include_top=False, input_shape=(IMG_SIZE, IMG_SIZE, 3))\n",
    "    add_model = Sequential()\n",
    "    add_model.add(Flatten(input_shape=base_model.output_shape[1:]))\n",
    "    add_model.add(Dropout(0.3))\n",
    "    add_model.add(Dense(64, activation='relu'))\n",
    "    add_model.add(Dropout(0.4))\n",
    "\n",
    "    add_model.add(Dense(6, activation='softmax'))\n",
    "\n",
    "    model = Model(inputs=base_model.input, outputs=add_model(base_model.output))\n",
    "\n",
    "    model.compile(loss='categorical_crossentropy', optimizer=optimizers.SGD(lr=1e-4, momentum=0.9),\n",
    "                  metrics=['accuracy'])\n",
    "    return model\n",
    "#     model.summary()"
   ]
  },
  {
   "cell_type": "markdown",
   "id": "2530ff4f",
   "metadata": {
    "papermill": {
     "duration": 0.019374,
     "end_time": "2021-09-13T05:46:47.401541",
     "exception": false,
     "start_time": "2021-09-13T05:46:47.382167",
     "status": "completed"
    },
    "tags": []
   },
   "source": [
    "# Preparation for kfolds"
   ]
  },
  {
   "cell_type": "code",
   "execution_count": 9,
   "id": "1f45517a",
   "metadata": {
    "execution": {
     "iopub.execute_input": "2021-09-13T05:46:47.447176Z",
     "iopub.status.busy": "2021-09-13T05:46:47.445916Z",
     "iopub.status.idle": "2021-09-13T05:46:47.448637Z",
     "shell.execute_reply": "2021-09-13T05:46:47.448191Z",
     "shell.execute_reply.started": "2021-09-13T05:24:35.280970Z"
    },
    "papermill": {
     "duration": 0.026391,
     "end_time": "2021-09-13T05:46:47.448768",
     "exception": false,
     "start_time": "2021-09-13T05:46:47.422377",
     "status": "completed"
    },
    "tags": []
   },
   "outputs": [],
   "source": [
    "# Storing the average of all predictions\n",
    "\n",
    "main_pred = []\n",
    "error = []\n",
    "data_kfold = pd.DataFrame()"
   ]
  },
  {
   "cell_type": "code",
   "execution_count": 10,
   "id": "10db6969",
   "metadata": {
    "execution": {
     "iopub.execute_input": "2021-09-13T05:46:47.493076Z",
     "iopub.status.busy": "2021-09-13T05:46:47.492592Z",
     "iopub.status.idle": "2021-09-13T05:46:47.495672Z",
     "shell.execute_reply": "2021-09-13T05:46:47.496065Z",
     "shell.execute_reply.started": "2021-09-13T05:08:37.591726Z"
    },
    "papermill": {
     "duration": 0.027525,
     "end_time": "2021-09-13T05:46:47.496194",
     "exception": false,
     "start_time": "2021-09-13T05:46:47.468669",
     "status": "completed"
    },
    "tags": []
   },
   "outputs": [],
   "source": [
    "# Creating X, Y for training \n",
    "\n",
    "train_y = df.Class\n",
    "train_x = df.drop(['Class'],axis=1)"
   ]
  },
  {
   "cell_type": "markdown",
   "id": "855dc3c9",
   "metadata": {
    "papermill": {
     "duration": 0.019776,
     "end_time": "2021-09-13T05:46:47.535321",
     "exception": false,
     "start_time": "2021-09-13T05:46:47.515545",
     "status": "completed"
    },
    "tags": []
   },
   "source": [
    "**I took 7 splits as we have 6 labels and even for worst case at least 1 label will have 2 occurence**"
   ]
  },
  {
   "cell_type": "markdown",
   "id": "67b2f9a1",
   "metadata": {
    "papermill": {
     "duration": 0.019697,
     "end_time": "2021-09-13T05:46:47.575223",
     "exception": false,
     "start_time": "2021-09-13T05:46:47.555526",
     "status": "completed"
    },
    "tags": []
   },
   "source": [
    "Increase EPOCHS variable if you are going for competition"
   ]
  },
  {
   "cell_type": "code",
   "execution_count": 11,
   "id": "60758f10",
   "metadata": {
    "execution": {
     "iopub.execute_input": "2021-09-13T05:46:47.620913Z",
     "iopub.status.busy": "2021-09-13T05:46:47.620319Z",
     "iopub.status.idle": "2021-09-13T05:46:47.624471Z",
     "shell.execute_reply": "2021-09-13T05:46:47.623974Z",
     "shell.execute_reply.started": "2021-09-13T05:08:37.600296Z"
    },
    "papermill": {
     "duration": 0.029273,
     "end_time": "2021-09-13T05:46:47.624586",
     "exception": false,
     "start_time": "2021-09-13T05:46:47.595313",
     "status": "completed"
    },
    "tags": []
   },
   "outputs": [],
   "source": [
    "IMG_SIZE = 128\n",
    "BATCH_SIZE = 16\n",
    "EPOCHS = 1\n",
    "N_SPLIT = 7"
   ]
  },
  {
   "cell_type": "markdown",
   "id": "bec5a4a1",
   "metadata": {
    "papermill": {
     "duration": 0.019958,
     "end_time": "2021-09-13T05:46:47.664901",
     "exception": false,
     "start_time": "2021-09-13T05:46:47.644943",
     "status": "completed"
    },
    "tags": []
   },
   "source": [
    "# Training And Predition"
   ]
  },
  {
   "cell_type": "code",
   "execution_count": 12,
   "id": "098a6455",
   "metadata": {
    "_kg_hide-output": true,
    "collapsed": true,
    "execution": {
     "iopub.execute_input": "2021-09-13T05:46:47.715876Z",
     "iopub.status.busy": "2021-09-13T05:46:47.715362Z",
     "iopub.status.idle": "2021-09-13T05:57:13.387363Z",
     "shell.execute_reply": "2021-09-13T05:57:13.385805Z",
     "shell.execute_reply.started": "2021-09-13T05:24:37.616631Z"
    },
    "jupyter": {
     "outputs_hidden": true
    },
    "papermill": {
     "duration": 625.702934,
     "end_time": "2021-09-13T05:57:13.387510",
     "exception": false,
     "start_time": "2021-09-13T05:46:47.684576",
     "status": "completed"
    },
    "tags": []
   },
   "outputs": [
    {
     "name": "stdout",
     "output_type": "stream",
     "text": [
      "Found 11089 validated image filenames belonging to 6 classes.\n",
      "Found 1849 validated image filenames belonging to 6 classes.\n"
     ]
    },
    {
     "name": "stderr",
     "output_type": "stream",
     "text": [
      "2021-09-13 05:47:00.657834: I tensorflow/compiler/jit/xla_cpu_device.cc:41] Not creating XLA devices, tf_xla_enable_xla_devices not set\n",
      "2021-09-13 05:47:00.661660: I tensorflow/stream_executor/platform/default/dso_loader.cc:49] Successfully opened dynamic library libcuda.so.1\n",
      "2021-09-13 05:47:00.702229: I tensorflow/stream_executor/cuda/cuda_gpu_executor.cc:941] successful NUMA node read from SysFS had negative value (-1), but there must be at least one NUMA node, so returning NUMA node zero\n",
      "2021-09-13 05:47:00.702859: I tensorflow/core/common_runtime/gpu/gpu_device.cc:1720] Found device 0 with properties: \n",
      "pciBusID: 0000:00:04.0 name: Tesla P100-PCIE-16GB computeCapability: 6.0\n",
      "coreClock: 1.3285GHz coreCount: 56 deviceMemorySize: 15.90GiB deviceMemoryBandwidth: 681.88GiB/s\n",
      "2021-09-13 05:47:00.702921: I tensorflow/stream_executor/platform/default/dso_loader.cc:49] Successfully opened dynamic library libcudart.so.11.0\n",
      "2021-09-13 05:47:00.755700: I tensorflow/stream_executor/platform/default/dso_loader.cc:49] Successfully opened dynamic library libcublas.so.11\n",
      "2021-09-13 05:47:00.755802: I tensorflow/stream_executor/platform/default/dso_loader.cc:49] Successfully opened dynamic library libcublasLt.so.11\n",
      "2021-09-13 05:47:00.786511: I tensorflow/stream_executor/platform/default/dso_loader.cc:49] Successfully opened dynamic library libcufft.so.10\n",
      "2021-09-13 05:47:00.821189: I tensorflow/stream_executor/platform/default/dso_loader.cc:49] Successfully opened dynamic library libcurand.so.10\n",
      "2021-09-13 05:47:00.869424: I tensorflow/stream_executor/platform/default/dso_loader.cc:49] Successfully opened dynamic library libcusolver.so.10\n",
      "2021-09-13 05:47:00.889958: I tensorflow/stream_executor/platform/default/dso_loader.cc:49] Successfully opened dynamic library libcusparse.so.11\n",
      "2021-09-13 05:47:00.894022: I tensorflow/stream_executor/platform/default/dso_loader.cc:49] Successfully opened dynamic library libcudnn.so.8\n",
      "2021-09-13 05:47:00.894264: I tensorflow/stream_executor/cuda/cuda_gpu_executor.cc:941] successful NUMA node read from SysFS had negative value (-1), but there must be at least one NUMA node, so returning NUMA node zero\n",
      "2021-09-13 05:47:00.895071: I tensorflow/stream_executor/cuda/cuda_gpu_executor.cc:941] successful NUMA node read from SysFS had negative value (-1), but there must be at least one NUMA node, so returning NUMA node zero\n",
      "2021-09-13 05:47:00.897175: I tensorflow/core/common_runtime/gpu/gpu_device.cc:1862] Adding visible gpu devices: 0\n",
      "2021-09-13 05:47:00.898323: I tensorflow/core/platform/cpu_feature_guard.cc:142] This TensorFlow binary is optimized with oneAPI Deep Neural Network Library (oneDNN) to use the following CPU instructions in performance-critical operations:  AVX2 AVX512F FMA\n",
      "To enable them in other operations, rebuild TensorFlow with the appropriate compiler flags.\n",
      "2021-09-13 05:47:00.898548: I tensorflow/compiler/jit/xla_gpu_device.cc:99] Not creating XLA devices, tf_xla_enable_xla_devices not set\n",
      "2021-09-13 05:47:00.898733: I tensorflow/stream_executor/cuda/cuda_gpu_executor.cc:941] successful NUMA node read from SysFS had negative value (-1), but there must be at least one NUMA node, so returning NUMA node zero\n",
      "2021-09-13 05:47:00.899315: I tensorflow/core/common_runtime/gpu/gpu_device.cc:1720] Found device 0 with properties: \n",
      "pciBusID: 0000:00:04.0 name: Tesla P100-PCIE-16GB computeCapability: 6.0\n",
      "coreClock: 1.3285GHz coreCount: 56 deviceMemorySize: 15.90GiB deviceMemoryBandwidth: 681.88GiB/s\n",
      "2021-09-13 05:47:00.899373: I tensorflow/stream_executor/platform/default/dso_loader.cc:49] Successfully opened dynamic library libcudart.so.11.0\n",
      "2021-09-13 05:47:00.899405: I tensorflow/stream_executor/platform/default/dso_loader.cc:49] Successfully opened dynamic library libcublas.so.11\n",
      "2021-09-13 05:47:00.899428: I tensorflow/stream_executor/platform/default/dso_loader.cc:49] Successfully opened dynamic library libcublasLt.so.11\n",
      "2021-09-13 05:47:00.899450: I tensorflow/stream_executor/platform/default/dso_loader.cc:49] Successfully opened dynamic library libcufft.so.10\n",
      "2021-09-13 05:47:00.899472: I tensorflow/stream_executor/platform/default/dso_loader.cc:49] Successfully opened dynamic library libcurand.so.10\n",
      "2021-09-13 05:47:00.899494: I tensorflow/stream_executor/platform/default/dso_loader.cc:49] Successfully opened dynamic library libcusolver.so.10\n",
      "2021-09-13 05:47:00.899518: I tensorflow/stream_executor/platform/default/dso_loader.cc:49] Successfully opened dynamic library libcusparse.so.11\n",
      "2021-09-13 05:47:00.899540: I tensorflow/stream_executor/platform/default/dso_loader.cc:49] Successfully opened dynamic library libcudnn.so.8\n",
      "2021-09-13 05:47:00.899618: I tensorflow/stream_executor/cuda/cuda_gpu_executor.cc:941] successful NUMA node read from SysFS had negative value (-1), but there must be at least one NUMA node, so returning NUMA node zero\n",
      "2021-09-13 05:47:00.900360: I tensorflow/stream_executor/cuda/cuda_gpu_executor.cc:941] successful NUMA node read from SysFS had negative value (-1), but there must be at least one NUMA node, so returning NUMA node zero\n",
      "2021-09-13 05:47:00.900918: I tensorflow/core/common_runtime/gpu/gpu_device.cc:1862] Adding visible gpu devices: 0\n",
      "2021-09-13 05:47:00.902238: I tensorflow/stream_executor/platform/default/dso_loader.cc:49] Successfully opened dynamic library libcudart.so.11.0\n",
      "2021-09-13 05:47:02.736266: I tensorflow/core/common_runtime/gpu/gpu_device.cc:1261] Device interconnect StreamExecutor with strength 1 edge matrix:\n",
      "2021-09-13 05:47:02.736343: I tensorflow/core/common_runtime/gpu/gpu_device.cc:1267]      0 \n",
      "2021-09-13 05:47:02.736353: I tensorflow/core/common_runtime/gpu/gpu_device.cc:1280] 0:   N \n",
      "2021-09-13 05:47:02.739212: I tensorflow/stream_executor/cuda/cuda_gpu_executor.cc:941] successful NUMA node read from SysFS had negative value (-1), but there must be at least one NUMA node, so returning NUMA node zero\n",
      "2021-09-13 05:47:02.739955: I tensorflow/stream_executor/cuda/cuda_gpu_executor.cc:941] successful NUMA node read from SysFS had negative value (-1), but there must be at least one NUMA node, so returning NUMA node zero\n",
      "2021-09-13 05:47:02.740631: I tensorflow/stream_executor/cuda/cuda_gpu_executor.cc:941] successful NUMA node read from SysFS had negative value (-1), but there must be at least one NUMA node, so returning NUMA node zero\n",
      "2021-09-13 05:47:02.741227: I tensorflow/core/common_runtime/gpu/gpu_device.cc:1406] Created TensorFlow device (/job:localhost/replica:0/task:0/device:GPU:0 with 14957 MB memory) -> physical GPU (device: 0, name: Tesla P100-PCIE-16GB, pci bus id: 0000:00:04.0, compute capability: 6.0)\n"
     ]
    },
    {
     "name": "stdout",
     "output_type": "stream",
     "text": [
      "Downloading data from https://storage.googleapis.com/tensorflow/keras-applications/resnet/resnet50_weights_tf_dim_ordering_tf_kernels_notop.h5\n",
      "94773248/94765736 [==============================] - 1s 0us/step\n"
     ]
    },
    {
     "name": "stderr",
     "output_type": "stream",
     "text": [
      "/opt/conda/lib/python3.7/site-packages/tensorflow/python/keras/engine/training.py:1844: UserWarning: `Model.fit_generator` is deprecated and will be removed in a future version. Please use `Model.fit`, which supports generators.\n",
      "  warnings.warn('`Model.fit_generator` is deprecated and '\n",
      "2021-09-13 05:47:05.403557: I tensorflow/compiler/mlir/mlir_graph_optimization_pass.cc:116] None of the MLIR optimization passes are enabled (registered 2)\n",
      "2021-09-13 05:47:05.410041: I tensorflow/core/platform/profile_utils/cpu_utils.cc:112] CPU Frequency: 2000175000 Hz\n",
      "2021-09-13 05:47:10.082111: I tensorflow/stream_executor/platform/default/dso_loader.cc:49] Successfully opened dynamic library libcublas.so.11\n",
      "2021-09-13 05:47:11.083021: I tensorflow/stream_executor/platform/default/dso_loader.cc:49] Successfully opened dynamic library libcublasLt.so.11\n",
      "2021-09-13 05:47:11.112503: I tensorflow/stream_executor/platform/default/dso_loader.cc:49] Successfully opened dynamic library libcudnn.so.8\n"
     ]
    },
    {
     "name": "stdout",
     "output_type": "stream",
     "text": [
      "693/693 [==============================] - 93s 118ms/step - loss: 1.3770 - accuracy: 0.5539 - val_loss: 1.0581 - val_accuracy: 0.6128\n",
      "Found 6469 validated image filenames.\n"
     ]
    },
    {
     "name": "stderr",
     "output_type": "stream",
     "text": [
      "/opt/conda/lib/python3.7/site-packages/tensorflow/python/keras/engine/training.py:1905: UserWarning: `Model.predict_generator` is deprecated and will be removed in a future version. Please use `Model.predict`, which supports generators.\n",
      "  warnings.warn('`Model.predict_generator` is deprecated and '\n"
     ]
    },
    {
     "name": "stdout",
     "output_type": "stream",
     "text": [
      "Found 11089 validated image filenames belonging to 6 classes.\n",
      "Found 1849 validated image filenames belonging to 6 classes.\n"
     ]
    },
    {
     "name": "stderr",
     "output_type": "stream",
     "text": [
      "/opt/conda/lib/python3.7/site-packages/tensorflow/python/keras/engine/training.py:1844: UserWarning: `Model.fit_generator` is deprecated and will be removed in a future version. Please use `Model.fit`, which supports generators.\n",
      "  warnings.warn('`Model.fit_generator` is deprecated and '\n"
     ]
    },
    {
     "name": "stdout",
     "output_type": "stream",
     "text": [
      "693/693 [==============================] - 72s 98ms/step - loss: 1.3897 - accuracy: 0.5591 - val_loss: 1.5158 - val_accuracy: 0.5262\n",
      "Found 6469 validated image filenames.\n"
     ]
    },
    {
     "name": "stderr",
     "output_type": "stream",
     "text": [
      "/opt/conda/lib/python3.7/site-packages/tensorflow/python/keras/engine/training.py:1905: UserWarning: `Model.predict_generator` is deprecated and will be removed in a future version. Please use `Model.predict`, which supports generators.\n",
      "  warnings.warn('`Model.predict_generator` is deprecated and '\n"
     ]
    },
    {
     "name": "stdout",
     "output_type": "stream",
     "text": [
      "Found 11090 validated image filenames belonging to 6 classes.\n",
      "Found 1848 validated image filenames belonging to 6 classes.\n"
     ]
    },
    {
     "name": "stderr",
     "output_type": "stream",
     "text": [
      "/opt/conda/lib/python3.7/site-packages/tensorflow/python/keras/engine/training.py:1844: UserWarning: `Model.fit_generator` is deprecated and will be removed in a future version. Please use `Model.fit`, which supports generators.\n",
      "  warnings.warn('`Model.fit_generator` is deprecated and '\n"
     ]
    },
    {
     "name": "stdout",
     "output_type": "stream",
     "text": [
      "693/693 [==============================] - 73s 99ms/step - loss: 1.4566 - accuracy: 0.5465 - val_loss: 1.5681 - val_accuracy: 0.5465\n",
      "Found 6469 validated image filenames.\n"
     ]
    },
    {
     "name": "stderr",
     "output_type": "stream",
     "text": [
      "/opt/conda/lib/python3.7/site-packages/tensorflow/python/keras/engine/training.py:1905: UserWarning: `Model.predict_generator` is deprecated and will be removed in a future version. Please use `Model.predict`, which supports generators.\n",
      "  warnings.warn('`Model.predict_generator` is deprecated and '\n"
     ]
    },
    {
     "name": "stdout",
     "output_type": "stream",
     "text": [
      "Found 11090 validated image filenames belonging to 6 classes.\n",
      "Found 1848 validated image filenames belonging to 6 classes.\n"
     ]
    },
    {
     "name": "stderr",
     "output_type": "stream",
     "text": [
      "/opt/conda/lib/python3.7/site-packages/tensorflow/python/keras/engine/training.py:1844: UserWarning: `Model.fit_generator` is deprecated and will be removed in a future version. Please use `Model.fit`, which supports generators.\n",
      "  warnings.warn('`Model.fit_generator` is deprecated and '\n"
     ]
    },
    {
     "name": "stdout",
     "output_type": "stream",
     "text": [
      "693/693 [==============================] - 71s 97ms/step - loss: 1.3625 - accuracy: 0.5565 - val_loss: 1.0212 - val_accuracy: 0.6331\n",
      "Found 6469 validated image filenames.\n"
     ]
    },
    {
     "name": "stderr",
     "output_type": "stream",
     "text": [
      "/opt/conda/lib/python3.7/site-packages/tensorflow/python/keras/engine/training.py:1905: UserWarning: `Model.predict_generator` is deprecated and will be removed in a future version. Please use `Model.predict`, which supports generators.\n",
      "  warnings.warn('`Model.predict_generator` is deprecated and '\n"
     ]
    },
    {
     "name": "stdout",
     "output_type": "stream",
     "text": [
      "Found 11090 validated image filenames belonging to 6 classes.\n",
      "Found 1848 validated image filenames belonging to 6 classes.\n"
     ]
    },
    {
     "name": "stderr",
     "output_type": "stream",
     "text": [
      "/opt/conda/lib/python3.7/site-packages/tensorflow/python/keras/engine/training.py:1844: UserWarning: `Model.fit_generator` is deprecated and will be removed in a future version. Please use `Model.fit`, which supports generators.\n",
      "  warnings.warn('`Model.fit_generator` is deprecated and '\n"
     ]
    },
    {
     "name": "stdout",
     "output_type": "stream",
     "text": [
      "693/693 [==============================] - 72s 98ms/step - loss: 1.3378 - accuracy: 0.5652 - val_loss: 1.1446 - val_accuracy: 0.5736\n",
      "Found 6469 validated image filenames.\n"
     ]
    },
    {
     "name": "stderr",
     "output_type": "stream",
     "text": [
      "/opt/conda/lib/python3.7/site-packages/tensorflow/python/keras/engine/training.py:1905: UserWarning: `Model.predict_generator` is deprecated and will be removed in a future version. Please use `Model.predict`, which supports generators.\n",
      "  warnings.warn('`Model.predict_generator` is deprecated and '\n"
     ]
    },
    {
     "name": "stdout",
     "output_type": "stream",
     "text": [
      "Found 11090 validated image filenames belonging to 6 classes.\n",
      "Found 1848 validated image filenames belonging to 6 classes.\n"
     ]
    },
    {
     "name": "stderr",
     "output_type": "stream",
     "text": [
      "/opt/conda/lib/python3.7/site-packages/tensorflow/python/keras/engine/training.py:1844: UserWarning: `Model.fit_generator` is deprecated and will be removed in a future version. Please use `Model.fit`, which supports generators.\n",
      "  warnings.warn('`Model.fit_generator` is deprecated and '\n"
     ]
    },
    {
     "name": "stdout",
     "output_type": "stream",
     "text": [
      "693/693 [==============================] - 72s 98ms/step - loss: 1.3857 - accuracy: 0.5635 - val_loss: 1.0961 - val_accuracy: 0.5985\n",
      "Found 6469 validated image filenames.\n"
     ]
    },
    {
     "name": "stderr",
     "output_type": "stream",
     "text": [
      "/opt/conda/lib/python3.7/site-packages/tensorflow/python/keras/engine/training.py:1905: UserWarning: `Model.predict_generator` is deprecated and will be removed in a future version. Please use `Model.predict`, which supports generators.\n",
      "  warnings.warn('`Model.predict_generator` is deprecated and '\n"
     ]
    },
    {
     "name": "stdout",
     "output_type": "stream",
     "text": [
      "Found 11090 validated image filenames belonging to 6 classes.\n",
      "Found 1848 validated image filenames belonging to 6 classes.\n"
     ]
    },
    {
     "name": "stderr",
     "output_type": "stream",
     "text": [
      "/opt/conda/lib/python3.7/site-packages/tensorflow/python/keras/engine/training.py:1844: UserWarning: `Model.fit_generator` is deprecated and will be removed in a future version. Please use `Model.fit`, which supports generators.\n",
      "  warnings.warn('`Model.fit_generator` is deprecated and '\n"
     ]
    },
    {
     "name": "stdout",
     "output_type": "stream",
     "text": [
      "693/693 [==============================] - 75s 103ms/step - loss: 1.4278 - accuracy: 0.5501 - val_loss: 1.3465 - val_accuracy: 0.5319\n",
      "Found 6469 validated image filenames.\n"
     ]
    },
    {
     "name": "stderr",
     "output_type": "stream",
     "text": [
      "/opt/conda/lib/python3.7/site-packages/tensorflow/python/keras/engine/training.py:1905: UserWarning: `Model.predict_generator` is deprecated and will be removed in a future version. Please use `Model.predict`, which supports generators.\n",
      "  warnings.warn('`Model.predict_generator` is deprecated and '\n"
     ]
    }
   ],
   "source": [
    "#Initializing Data Generators\n",
    "train_datagen = ImageDataGenerator(rescale = 1./255,\n",
    "                                   shear_range = 0.2,\n",
    "                                   zoom_range = 0.2,\n",
    "                                   horizontal_flip = True)\n",
    "validation_datagen = ImageDataGenerator(rescale = 1./255)\n",
    "\n",
    "# k-fold\n",
    "kfold = StratifiedKFold(n_splits=N_SPLIT,shuffle=True,random_state=42)\n",
    "\n",
    "# Variable for keeping count of split we are executing\n",
    "j = 0\n",
    "\n",
    "# K-fold Train and test for each split\n",
    "for train_idx, val_idx in list(kfold.split(train_x,train_y)):\n",
    "    x_train_df = df.iloc[train_idx]\n",
    "    x_valid_df = df.iloc[val_idx]\n",
    "    j+=1\n",
    "\n",
    "\n",
    "    training_set = train_datagen.flow_from_dataframe(dataframe=x_train_df, directory=TRAIN_PATH,\n",
    "                                                 x_col=\"Image\", y_col=\"Class\",\n",
    "                                                 class_mode=\"categorical\",\n",
    "                                                 target_size=(IMG_SIZE,IMG_SIZE), batch_size=BATCH_SIZE)\n",
    "    \n",
    "    validation_set = validation_datagen.flow_from_dataframe(dataframe=x_valid_df, directory=TRAIN_PATH,\n",
    "                                                 x_col=\"Image\", y_col=\"Class\",\n",
    "                                                 class_mode=\"categorical\",\n",
    "                                                 target_size=(IMG_SIZE,IMG_SIZE), batch_size=BATCH_SIZE)\n",
    "    \n",
    "    model_test = get_model(IMG_SIZE)\n",
    "    \n",
    "    \n",
    "    history = model_test.fit_generator( training_set,\n",
    "                                        validation_data=validation_set,\n",
    "                                        epochs = EPOCHS,\n",
    "                                        steps_per_epoch=x_train_df.shape[0] // BATCH_SIZE\n",
    "                                        )\n",
    "    \n",
    "    test_generator = ImageDataGenerator(rescale = 1./255)\n",
    "    \n",
    "    test_set = test_generator.flow_from_dataframe(dataframe=train, directory=TRAIN_PATH,\n",
    "                                                 x_col=\"Image\",y_col=None,\n",
    "                                                 class_mode=None,\n",
    "                                                 target_size=(IMG_SIZE,IMG_SIZE))\n",
    "    \n",
    "    pred= model_test.predict_generator(test_set, len(train) // BATCH_SIZE)\n",
    "    predicted_class_indices=np.argmax(pred,axis=1)\n",
    "                                       \n",
    "    data_kfold[j] = predicted_class_indices\n",
    "    gc.collect()"
   ]
  },
  {
   "cell_type": "code",
   "execution_count": 13,
   "id": "a7e62747",
   "metadata": {
    "execution": {
     "iopub.execute_input": "2021-09-13T05:57:15.950263Z",
     "iopub.status.busy": "2021-09-13T05:57:15.949620Z",
     "iopub.status.idle": "2021-09-13T05:57:15.952620Z",
     "shell.execute_reply": "2021-09-13T05:57:15.953026Z",
     "shell.execute_reply.started": "2021-09-13T05:35:03.009290Z"
    },
    "papermill": {
     "duration": 1.294047,
     "end_time": "2021-09-13T05:57:15.953178",
     "exception": false,
     "start_time": "2021-09-13T05:57:14.659131",
     "status": "completed"
    },
    "tags": []
   },
   "outputs": [
    {
     "data": {
      "text/html": [
       "<div>\n",
       "<style scoped>\n",
       "    .dataframe tbody tr th:only-of-type {\n",
       "        vertical-align: middle;\n",
       "    }\n",
       "\n",
       "    .dataframe tbody tr th {\n",
       "        vertical-align: top;\n",
       "    }\n",
       "\n",
       "    .dataframe thead th {\n",
       "        text-align: right;\n",
       "    }\n",
       "</style>\n",
       "<table border=\"1\" class=\"dataframe\">\n",
       "  <thead>\n",
       "    <tr style=\"text-align: right;\">\n",
       "      <th></th>\n",
       "      <th>1</th>\n",
       "      <th>2</th>\n",
       "      <th>3</th>\n",
       "      <th>4</th>\n",
       "      <th>5</th>\n",
       "      <th>6</th>\n",
       "      <th>7</th>\n",
       "    </tr>\n",
       "  </thead>\n",
       "  <tbody>\n",
       "    <tr>\n",
       "      <th>0</th>\n",
       "      <td>5</td>\n",
       "      <td>2</td>\n",
       "      <td>4</td>\n",
       "      <td>4</td>\n",
       "      <td>4</td>\n",
       "      <td>4</td>\n",
       "      <td>2</td>\n",
       "    </tr>\n",
       "    <tr>\n",
       "      <th>1</th>\n",
       "      <td>4</td>\n",
       "      <td>4</td>\n",
       "      <td>4</td>\n",
       "      <td>4</td>\n",
       "      <td>4</td>\n",
       "      <td>4</td>\n",
       "      <td>4</td>\n",
       "    </tr>\n",
       "    <tr>\n",
       "      <th>2</th>\n",
       "      <td>4</td>\n",
       "      <td>4</td>\n",
       "      <td>4</td>\n",
       "      <td>4</td>\n",
       "      <td>4</td>\n",
       "      <td>3</td>\n",
       "      <td>1</td>\n",
       "    </tr>\n",
       "    <tr>\n",
       "      <th>3</th>\n",
       "      <td>4</td>\n",
       "      <td>4</td>\n",
       "      <td>4</td>\n",
       "      <td>4</td>\n",
       "      <td>3</td>\n",
       "      <td>3</td>\n",
       "      <td>4</td>\n",
       "    </tr>\n",
       "    <tr>\n",
       "      <th>4</th>\n",
       "      <td>4</td>\n",
       "      <td>4</td>\n",
       "      <td>4</td>\n",
       "      <td>4</td>\n",
       "      <td>4</td>\n",
       "      <td>1</td>\n",
       "      <td>2</td>\n",
       "    </tr>\n",
       "    <tr>\n",
       "      <th>...</th>\n",
       "      <td>...</td>\n",
       "      <td>...</td>\n",
       "      <td>...</td>\n",
       "      <td>...</td>\n",
       "      <td>...</td>\n",
       "      <td>...</td>\n",
       "      <td>...</td>\n",
       "    </tr>\n",
       "    <tr>\n",
       "      <th>6464</th>\n",
       "      <td>4</td>\n",
       "      <td>4</td>\n",
       "      <td>4</td>\n",
       "      <td>4</td>\n",
       "      <td>4</td>\n",
       "      <td>4</td>\n",
       "      <td>4</td>\n",
       "    </tr>\n",
       "    <tr>\n",
       "      <th>6465</th>\n",
       "      <td>2</td>\n",
       "      <td>4</td>\n",
       "      <td>2</td>\n",
       "      <td>4</td>\n",
       "      <td>4</td>\n",
       "      <td>4</td>\n",
       "      <td>1</td>\n",
       "    </tr>\n",
       "    <tr>\n",
       "      <th>6466</th>\n",
       "      <td>4</td>\n",
       "      <td>4</td>\n",
       "      <td>4</td>\n",
       "      <td>2</td>\n",
       "      <td>4</td>\n",
       "      <td>2</td>\n",
       "      <td>4</td>\n",
       "    </tr>\n",
       "    <tr>\n",
       "      <th>6467</th>\n",
       "      <td>5</td>\n",
       "      <td>4</td>\n",
       "      <td>4</td>\n",
       "      <td>4</td>\n",
       "      <td>4</td>\n",
       "      <td>4</td>\n",
       "      <td>1</td>\n",
       "    </tr>\n",
       "    <tr>\n",
       "      <th>6468</th>\n",
       "      <td>4</td>\n",
       "      <td>4</td>\n",
       "      <td>2</td>\n",
       "      <td>4</td>\n",
       "      <td>1</td>\n",
       "      <td>4</td>\n",
       "      <td>4</td>\n",
       "    </tr>\n",
       "  </tbody>\n",
       "</table>\n",
       "<p>6469 rows × 7 columns</p>\n",
       "</div>"
      ],
      "text/plain": [
       "      1  2  3  4  5  6  7\n",
       "0     5  2  4  4  4  4  2\n",
       "1     4  4  4  4  4  4  4\n",
       "2     4  4  4  4  4  3  1\n",
       "3     4  4  4  4  3  3  4\n",
       "4     4  4  4  4  4  1  2\n",
       "...  .. .. .. .. .. .. ..\n",
       "6464  4  4  4  4  4  4  4\n",
       "6465  2  4  2  4  4  4  1\n",
       "6466  4  4  4  2  4  2  4\n",
       "6467  5  4  4  4  4  4  1\n",
       "6468  4  4  2  4  1  4  4\n",
       "\n",
       "[6469 rows x 7 columns]"
      ]
     },
     "execution_count": 13,
     "metadata": {},
     "output_type": "execute_result"
    }
   ],
   "source": [
    "# holder\n",
    "data_kfold"
   ]
  },
  {
   "cell_type": "code",
   "execution_count": 14,
   "id": "a0c0af4e",
   "metadata": {
    "execution": {
     "iopub.execute_input": "2021-09-13T05:57:18.535105Z",
     "iopub.status.busy": "2021-09-13T05:57:18.534515Z",
     "iopub.status.idle": "2021-09-13T05:57:18.538502Z",
     "shell.execute_reply": "2021-09-13T05:57:18.538041Z",
     "shell.execute_reply.started": "2021-09-13T05:36:59.056346Z"
    },
    "papermill": {
     "duration": 1.284187,
     "end_time": "2021-09-13T05:57:18.538623",
     "exception": false,
     "start_time": "2021-09-13T05:57:17.254436",
     "status": "completed"
    },
    "tags": []
   },
   "outputs": [],
   "source": [
    "# testing on single iteration of HoldOut\n",
    "predicted_class_indices = data_kfold[1]\n",
    "labels=(training_set.class_indices)\n",
    "labels2=dict((v,k) for k,v in labels.items())\n",
    "predictions=[labels2[k] for k in predicted_class_indices]"
   ]
  },
  {
   "cell_type": "code",
   "execution_count": 15,
   "id": "06e3c4cf",
   "metadata": {
    "execution": {
     "iopub.execute_input": "2021-09-13T05:57:21.126999Z",
     "iopub.status.busy": "2021-09-13T05:57:21.126123Z",
     "iopub.status.idle": "2021-09-13T05:57:21.139124Z",
     "shell.execute_reply": "2021-09-13T05:57:21.139787Z",
     "shell.execute_reply.started": "2021-09-13T05:40:01.766821Z"
    },
    "papermill": {
     "duration": 1.30701,
     "end_time": "2021-09-13T05:57:21.139968",
     "exception": false,
     "start_time": "2021-09-13T05:57:19.832958",
     "status": "completed"
    },
    "tags": []
   },
   "outputs": [
    {
     "name": "stdout",
     "output_type": "stream",
     "text": [
      "Accuracy of HandOut Method:  0.32168805070335443\n"
     ]
    }
   ],
   "source": [
    "print(\"Accuracy of HandOut Method: \",accuracy_score(predictions,train.Class))"
   ]
  },
  {
   "cell_type": "code",
   "execution_count": 16,
   "id": "23f2546c",
   "metadata": {
    "execution": {
     "iopub.execute_input": "2021-09-13T05:57:23.972863Z",
     "iopub.status.busy": "2021-09-13T05:57:23.972287Z",
     "iopub.status.idle": "2021-09-13T05:57:23.975232Z",
     "shell.execute_reply": "2021-09-13T05:57:23.974813Z",
     "shell.execute_reply.started": "2021-09-13T05:37:19.002872Z"
    },
    "papermill": {
     "duration": 1.542436,
     "end_time": "2021-09-13T05:57:23.975344",
     "exception": false,
     "start_time": "2021-09-13T05:57:22.432908",
     "status": "completed"
    },
    "tags": []
   },
   "outputs": [],
   "source": [
    "ans = train.copy()"
   ]
  },
  {
   "cell_type": "code",
   "execution_count": 17,
   "id": "55716723",
   "metadata": {
    "execution": {
     "iopub.execute_input": "2021-09-13T05:57:26.544416Z",
     "iopub.status.busy": "2021-09-13T05:57:26.543749Z",
     "iopub.status.idle": "2021-09-13T05:57:28.364694Z",
     "shell.execute_reply": "2021-09-13T05:57:28.363779Z",
     "shell.execute_reply.started": "2021-09-13T05:37:20.067636Z"
    },
    "papermill": {
     "duration": 3.100283,
     "end_time": "2021-09-13T05:57:28.364829",
     "exception": false,
     "start_time": "2021-09-13T05:57:25.264546",
     "status": "completed"
    },
    "tags": []
   },
   "outputs": [],
   "source": [
    "# Taking The Label with Maximum Occurences\n",
    "\n",
    "labels=(training_set.class_indices)\n",
    "labels2=dict((v,k) for k,v in labels.items())\n",
    "import collections \n",
    "for i in range(len(data_kfold)):\n",
    "    co = collections.Counter(data_kfold.loc[i])\n",
    "    co = sorted(co.items(),key=lambda x: x[1],reverse=True)\n",
    "    ans.Class.loc[i] = labels2[co[0][0]]"
   ]
  },
  {
   "cell_type": "code",
   "execution_count": 18,
   "id": "6feff73a",
   "metadata": {
    "execution": {
     "iopub.execute_input": "2021-09-13T05:57:31.280919Z",
     "iopub.status.busy": "2021-09-13T05:57:31.280182Z",
     "iopub.status.idle": "2021-09-13T05:57:31.292772Z",
     "shell.execute_reply": "2021-09-13T05:57:31.293526Z",
     "shell.execute_reply.started": "2021-09-13T05:40:21.456694Z"
    },
    "papermill": {
     "duration": 1.658899,
     "end_time": "2021-09-13T05:57:31.293723",
     "exception": false,
     "start_time": "2021-09-13T05:57:29.634824",
     "status": "completed"
    },
    "tags": []
   },
   "outputs": [
    {
     "name": "stdout",
     "output_type": "stream",
     "text": [
      "Accuracy of K-Fold Method:  0.4274230947596228\n"
     ]
    }
   ],
   "source": [
    "# Averaged K-Fold Output\n",
    "print(\"Accuracy of K-Fold Method: \",accuracy_score(train.Class,ans.Class))"
   ]
  },
  {
   "cell_type": "markdown",
   "id": "50a6f774",
   "metadata": {
    "papermill": {
     "duration": 1.3549,
     "end_time": "2021-09-13T05:57:34.003204",
     "exception": false,
     "start_time": "2021-09-13T05:57:32.648304",
     "status": "completed"
    },
    "tags": []
   },
   "source": [
    "## **Averaged Accuracy of K-Fold > Accuracy by HoldOut**"
   ]
  },
  {
   "cell_type": "markdown",
   "id": "68f0c383",
   "metadata": {
    "papermill": {
     "duration": 1.274576,
     "end_time": "2021-09-13T05:57:36.732983",
     "exception": false,
     "start_time": "2021-09-13T05:57:35.458407",
     "status": "completed"
    },
    "tags": []
   },
   "source": [
    "# Please Upvote if it helped YOU ! 👍✌"
   ]
  }
 ],
 "metadata": {
  "kernelspec": {
   "display_name": "Python 3",
   "language": "python",
   "name": "python3"
  },
  "language_info": {
   "codemirror_mode": {
    "name": "ipython",
    "version": 3
   },
   "file_extension": ".py",
   "mimetype": "text/x-python",
   "name": "python",
   "nbconvert_exporter": "python",
   "pygments_lexer": "ipython3",
   "version": "3.7.10"
  },
  "papermill": {
   "default_parameters": {},
   "duration": 676.236459,
   "end_time": "2021-09-13T05:57:40.973112",
   "environment_variables": {},
   "exception": null,
   "input_path": "__notebook__.ipynb",
   "output_path": "__notebook__.ipynb",
   "parameters": {},
   "start_time": "2021-09-13T05:46:24.736653",
   "version": "2.3.3"
  }
 },
 "nbformat": 4,
 "nbformat_minor": 5
}
